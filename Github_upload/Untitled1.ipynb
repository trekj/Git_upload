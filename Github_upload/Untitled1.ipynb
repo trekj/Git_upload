{
 "cells": [
  {
   "cell_type": "code",
   "execution_count": 3,
   "id": "8068c082",
   "metadata": {},
   "outputs": [],
   "source": [
    "loan_costs = [500, 600, 200, 1000, 450]\n"
   ]
  },
  {
   "cell_type": "code",
   "execution_count": 4,
   "id": "2ad15a0b",
   "metadata": {},
   "outputs": [
    {
     "data": {
      "text/plain": [
       "5"
      ]
     },
     "execution_count": 4,
     "metadata": {},
     "output_type": "execute_result"
    }
   ],
   "source": [
    "len (loan_costs)\n"
   ]
  },
  {
   "cell_type": "code",
   "execution_count": 5,
   "id": "7d817267",
   "metadata": {},
   "outputs": [
    {
     "data": {
      "text/plain": [
       "2750"
      ]
     },
     "execution_count": 5,
     "metadata": {},
     "output_type": "execute_result"
    }
   ],
   "source": [
    "sum (loan_costs)"
   ]
  },
  {
   "cell_type": "code",
   "execution_count": 8,
   "id": "76d34aae",
   "metadata": {},
   "outputs": [],
   "source": [
    "Number_of_loans = len ( loan_costs)"
   ]
  },
  {
   "cell_type": "code",
   "execution_count": 20,
   "id": "b90e97cb",
   "metadata": {},
   "outputs": [
    {
     "name": "stdout",
     "output_type": "stream",
     "text": [
      "The total number of loans are 5\n"
     ]
    }
   ],
   "source": [
    "print (\"The total number of loans are\", Number_of_loans)"
   ]
  },
  {
   "cell_type": "code",
   "execution_count": 22,
   "id": "efd24c2b",
   "metadata": {},
   "outputs": [
    {
     "name": "stdout",
     "output_type": "stream",
     "text": [
      "there are 5 Number of Loans\n"
     ]
    }
   ],
   "source": [
    "print (f\"there are {Number_of_loans} Number of Loans\")"
   ]
  },
  {
   "cell_type": "code",
   "execution_count": 11,
   "id": "82affd7e",
   "metadata": {},
   "outputs": [],
   "source": [
    "Total_loan = sum (loan_costs)"
   ]
  },
  {
   "cell_type": "code",
   "execution_count": 18,
   "id": "046d5a3e",
   "metadata": {},
   "outputs": [
    {
     "name": "stdout",
     "output_type": "stream",
     "text": [
      " The total loan is 2750\n"
     ]
    }
   ],
   "source": [
    "print (\" The total loan is\", Total_loan)"
   ]
  },
  {
   "cell_type": "code",
   "execution_count": 13,
   "id": "ef9f5740",
   "metadata": {},
   "outputs": [],
   "source": [
    "Average_loan = Total_loan / Number_of_loans\n"
   ]
  },
  {
   "cell_type": "code",
   "execution_count": 17,
   "id": "e615740d",
   "metadata": {},
   "outputs": [
    {
     "name": "stdout",
     "output_type": "stream",
     "text": [
      " The average loan is 550.0\n"
     ]
    }
   ],
   "source": [
    "print (\" The average loan is\", Average_loan)"
   ]
  },
  {
   "cell_type": "code",
   "execution_count": null,
   "id": "7188b83d",
   "metadata": {},
   "outputs": [],
   "source": []
  }
 ],
 "metadata": {
  "kernelspec": {
   "display_name": "Python 3 (ipykernel)",
   "language": "python",
   "name": "python3"
  },
  "language_info": {
   "codemirror_mode": {
    "name": "ipython",
    "version": 3
   },
   "file_extension": ".py",
   "mimetype": "text/x-python",
   "name": "python",
   "nbconvert_exporter": "python",
   "pygments_lexer": "ipython3",
   "version": "3.8.8"
  }
 },
 "nbformat": 4,
 "nbformat_minor": 5
}
